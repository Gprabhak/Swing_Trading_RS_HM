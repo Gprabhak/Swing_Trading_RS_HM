{
 "cells": [
  {
   "cell_type": "code",
   "execution_count": null,
   "metadata": {},
   "outputs": [
    {
     "data": {
      "text/plain": [
       "'\\nStrategy: Weekly Buying based on Relative Strength [RS] and Hilega-Milega\\nInitial Screen Stocks from quarterly OHLC [Stocks Outperforming Index]\\n    - RS [compared with Nifty50] \\n    - Trade Window: (RS > 0) to (RS < RS[-1])\\n    - Lookback 3 quarter\\nWeekly Screen from weekly OHLC\\n    - Buying HM-1 [Evaluates Price, Strength, Momentum and Volume]\\n    - Positive RS and (RS > RS[-1]) [Slope from Linear Regression should be tried]\\nTrade Parameter:\\nEntry Price\\n    - Type 1: Weekly Close\\n    - Type 2: 1/3 * [Entry Price - Stop Loss]\\nStop Loss\\n    - Weekly Close < Swing Low Weekly     \\nTarget\\n    - Type 1: 11 %\\n    - Type 2: 3 * [Entry Price - Stop Loss]\\n    \\nInput files: \\n    - nse_total_list.csv\\n    - Datasets - quarterly and weekly OHLC (/raw_data/monthly_ohlc)\\nOutput file: quarter_cup_handle_signals.csv\\n    - Stock_Name,Type,Entry_Type,Sig_Date,Cup_Date,Handle_Date,Buy_Price_1,Buy_Price_2\\n    - Type: [HM-1, HM-2, IN-1, IN-2]\\n    - Entry_Type : E1 [complete handle] - E2 [partial handle]\\n    - Buy_Price_1 : E1 trades\\n    - Buy_Price_2 : E2 trades\\n\\nIdea:\\nHM signal   - Quarterly [HM-1, HM-2, IN-1, IN-2]\\n            - Entry_Price_1 [Entry_Price_2 from dataset]\\nCup         - Monthly \\n            - Init_1: Total Range < Entry_Price_2 \\n            - Sig_1: Close > Entry_Price_1\\n            - Entry_price_2 = low[Sig_1] (monthly close) \\n\\nEntry       - Type 1: Entry_Price_1\\nTarget      - Type 1: 25 %\\n\\n\\n'"
      ]
     },
     "execution_count": 36,
     "metadata": {},
     "output_type": "execute_result"
    }
   ],
   "source": [
    "'''\n",
    "Strategy: Weekly Buying based on Relative Strength [RS] and Hilega-Milega\n",
    "Initial Screen Stocks from quarterly OHLC [Stocks Outperforming Index]\n",
    "    - RS [compared with Nifty50] \n",
    "    - Trade Window: (RS > 0) to (RS < RS[-1])\n",
    "    - Lookback 3 quarter\n",
    "Weekly Screen from weekly OHLC\n",
    "    - Buying HM-1 [Evaluates Price, Strength, Momentum and Volume]\n",
    "    - WMA21 > WMA21[-1]\n",
    "    - Positive RS and (RS[SMA5] > RS[-1][SMA5]) [Slope from Linear Regression should be tried]\n",
    "Trade Parameter:\n",
    "Entry Price\n",
    "    - Type 1: Weekly Close\n",
    "    - Type 2: 1/3 * [Entry Price - Stop Loss]\n",
    "Stop Loss\n",
    "    - Weekly Close < Swing Low Weekly     \n",
    "Target\n",
    "    - Type 1: 11 %\n",
    "    - Type 2: 3 * [Entry Price - Stop Loss]\n",
    "    \n",
    "Input files: \n",
    "    - nse_total_list.csv\n",
    "    - Datasets - quarterly and weekly OHLC (/raw_data/monthly_ohlc)\n",
    "Output file: quarter_cup_handle_signals.csv\n",
    "    - Stock_Name,Type,Entry_Type,Sig_Date,Cup_Date,Handle_Date,Buy_Price_1,Buy_Price_2\n",
    "    - Type: [HM-1, HM-2, IN-1, IN-2]\n",
    "    - Entry_Type : E1 [complete handle] - E2 [partial handle]\n",
    "    - Buy_Price_1 : E1 trades\n",
    "    - Buy_Price_2 : E2 trades\n",
    "\n",
    "Idea:\n",
    "HM signal   - Quarterly [HM-1, HM-2, IN-1, IN-2]\n",
    "            - Entry_Price_1 [Entry_Price_2 from dataset]\n",
    "Cup         - Monthly \n",
    "            - Init_1: Total Range < Entry_Price_2 \n",
    "            - Sig_1: Close > Entry_Price_1\n",
    "            - Entry_price_2 = low[Sig_1] (monthly close) \n",
    "\n",
    "Entry       - Type 1: Entry_Price_1\n",
    "Target      - Type 1: 25 %\n",
    "\n",
    "\n",
    "'''"
   ]
  },
  {
   "cell_type": "code",
   "execution_count": 37,
   "metadata": {},
   "outputs": [],
   "source": [
    "import sys\n",
    "main_path = r'/Gokul/PYTHON-VS' \n",
    "sys.path.append(main_path) \n",
    "\n",
    "from scripts_Algo_GP import * \n",
    "from scipy.stats import linregress\n",
    "import tradingview_indicators as ta\n",
    "from pprint import pprint\n",
    "import csv, math\n",
    "from datetime import datetime, date\n",
    "from dateutil.relativedelta import relativedelta"
   ]
  },
  {
   "cell_type": "code",
   "execution_count": 38,
   "metadata": {},
   "outputs": [],
   "source": [
    "def rs_NIFTY(df,df_index,rs_length):\n",
    "    # compute index s_ratio   \n",
    "    df_index['i_ratio'] = df_index['close'] / df_index['close'].shift(rs_length)\n",
    "    # compute return of stock\n",
    "    df['s_ratio'] = df['close'] / df['close'].shift(rs_length)\n",
    "    df['i_ratio'] = df_index['i_ratio']\n",
    "    # Compute RS\n",
    "    df['RS'] = ((df['s_ratio']/df['i_ratio'])-1).round(2)\n",
    "    df = df.drop(columns=['s_ratio','i_ratio'])\n",
    "    return df\n",
    "#((152.96 /130.05)/(23644/22326))-1"
   ]
  },
  {
   "cell_type": "code",
   "execution_count": null,
   "metadata": {},
   "outputs": [
    {
     "name": "stdout",
     "output_type": "stream",
     "text": [
      "NSE:KPITTECH-EQ\n",
      "/Gokul/PYTHON-VS/raw_data/quarter_ohlc/quarter_KPITTECH.csv\n",
      "      datetime    RS  start_RS  end_RS\n",
      "0   2019-04-01   NaN         0       0\n",
      "1   2019-07-01   NaN         0       0\n",
      "2   2019-10-01   NaN         0       0\n",
      "3   2020-01-01 -0.50         0       0\n",
      "4   2020-04-01 -0.26         0       0\n",
      "5   2020-07-01  0.41         0       0\n",
      "6   2020-10-01  1.48         1       0\n",
      "7   2021-01-01  0.98         0       0\n",
      "8   2021-04-01  0.52         0       0\n",
      "9   2021-07-01  0.91         0       0\n",
      "10  2021-10-01  1.92         1       0\n",
      "11  2022-01-01  1.08         0       0\n",
      "12  2022-04-01  0.69         0       0\n",
      "13  2022-07-01  0.09         0       0\n",
      "14  2022-10-01  0.13         0       0\n",
      "15  2023-01-01  0.62         1       0\n",
      "16  2023-04-01  0.47         0       0\n",
      "17  2023-07-01  0.51         0       0\n",
      "18  2023-10-01  0.31         1       0\n",
      "19  2024-01-01  0.17         0       0\n",
      "20  2024-04-01  0.16         0       0\n",
      "21  2024-07-01 -0.09         0       0\n",
      "22  2024-10-01 -0.07         0       0\n",
      "['2020-10-01', '2021-10-01', '2023-01-01', '2023-10-01']\n",
      "['2021-03-31', '2022-03-31', '2023-06-30', '2023-12-31']\n"
     ]
    }
   ],
   "source": [
    "def main():\n",
    "    '''------ Load Input Files ---------'''\n",
    "    file_name = f\"{main_path}/nse_list_2025_01.csv\"\n",
    "    file = open(file_name, \"r\")\n",
    "    list_stock = list(csv.reader(file, delimiter=\",\"))\n",
    "    file.close()\n",
    "    #print(list_stock)\n",
    "    '''------ Input Parameters ---------'''\n",
    "    rs_qtr_length = 3\n",
    "    '''------ Load Index ---------'''\n",
    "    df_qtr_index = pd.read_csv(f\"{main_path}/raw_data/quarter_ohlc/quarter_NIFTY.csv\")\n",
    "    #df_week_index = pd.read_csv(f\"{main_path}/raw_data/weekly_ohlc/weekly_NIFTY.csv\")\n",
    "    #print(df_qtr_index.tail(20))\n",
    "    '''------ Loop for each Stock---------'''\n",
    "    for stock_id in list_stock[2:3]: \n",
    "        id_stock = stock_id[0]\n",
    "        id_index= stock_id[1]\n",
    "        qtr_file = f\"{main_path}/raw_data/quarter_ohlc/quarter_{id_stock[4:-3]}.csv\"\n",
    "        week_file = f\"{main_path}/raw_data/weekly_ohlc/weekly_{id_stock[4:-3]}.csv\"\n",
    "        print(id_stock)\n",
    "        print(qtr_file)\n",
    "        #print(week_file)\n",
    "\n",
    "        '''------ Initial Screen ---------'''\n",
    "        df_qtr = pd.read_csv(qtr_file)\n",
    "        df_qtr['datetime'] = pd.to_datetime(df_qtr['datetime']).dt.strftime('%Y-%m-%d')\n",
    "        # Match the Size of the two DFs and reset Index number\n",
    "        df_index = df_qtr_index.iloc[-len(df_qtr):].reset_index(drop=True)\n",
    "        # Compute Relative Strength with Nifty50\n",
    "        df_qtr = rs_NIFTY(df_qtr,df_index,rs_qtr_length)\n",
    "        df_qtr = df_qtr[['datetime','RS']]\n",
    "        df_qtr['start_RS'] = df_qtr['end_RS'] = 0  \n",
    "        # Tradeable Intervals \n",
    "        mask_start= ((df_qtr['RS'] > 0) & (df_qtr['RS'].shift(1) <= 0)) \\\n",
    "            | ((df_qtr['RS'] > 0) & (df_qtr['RS'].shift(1) < df_qtr['RS']) \\\n",
    "            & (df_qtr['RS'].shift(1) < df_qtr['RS'].shift(2)))   \n",
    "        df_qtr.loc[mask_start.shift(1).astype(bool).fillna(False), 'start_RS'] = 1\n",
    "        df_qtr.at[0,'start_RS'] = 0\n",
    "        mask_end = (df_qtr['RS'].shift(1) > df_qtr['RS']) \\\n",
    "            & (df_qtr['RS'].shift(1) > df_qtr['RS'].shift(2)) \\\n",
    "            & (df_qtr['RS'].shift(1) > 0)\n",
    "        df_qtr.loc[mask_end, 'end_RS'] = -1\n",
    "        # Add trading interval to df\n",
    "        df_qtr.loc[(df_qtr['start_RS'] == 1), 'start_interval'] = df_qtr.loc[(df_qtr['start_RS'] == 1), 'datetime']\n",
    "        df_qtr.loc[(df_qtr['end_RS'] == -1), 'end_interval'] = pd.to_datetime(df_qtr.loc[(df_qtr['end_RS'] == -1), 'datetime']) + pd.offsets.QuarterEnd(0)\n",
    "        df_qtr['end_interval'] = df_qtr['end_interval'].dt.strftime('%Y-%m-%d')\n",
    "        # Create an array of tradeable interval Dates\n",
    "        start_array = df_qtr['start_interval'].dropna().tolist()\n",
    "        end_array = df_qtr['end_interval'].dropna().tolist()\n",
    "        print(start_array)\n",
    "        print(end_array)\n",
    "        \n",
    "        '''------ Weekly Screen ---------'''\n",
    "\n",
    "\n",
    "\n",
    "if __name__ == '__main__':\n",
    "    main()\n"
   ]
  },
  {
   "cell_type": "code",
   "execution_count": 40,
   "metadata": {},
   "outputs": [
    {
     "data": {
      "text/plain": [
       "-0.14792334858712863"
      ]
     },
     "execution_count": 40,
     "metadata": {},
     "output_type": "execute_result"
    }
   ],
   "source": [
    "#((67.37/ )/ (1263.55-1528.45))-1\n",
    "#((239.68/226.82)/ (5647.50/6134.05))-1\n",
    "#((152.96 /130.05)/(23644/22326))-1\n",
    "((121.29 /119.85)/(25810/21731))-1\n",
    "\n",
    "\n"
   ]
  }
 ],
 "metadata": {
  "kernelspec": {
   "display_name": "fyersv",
   "language": "python",
   "name": "python3"
  },
  "language_info": {
   "codemirror_mode": {
    "name": "ipython",
    "version": 3
   },
   "file_extension": ".py",
   "mimetype": "text/x-python",
   "name": "python",
   "nbconvert_exporter": "python",
   "pygments_lexer": "ipython3",
   "version": "3.12.4"
  }
 },
 "nbformat": 4,
 "nbformat_minor": 2
}
